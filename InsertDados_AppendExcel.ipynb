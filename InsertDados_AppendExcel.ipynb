{
 "cells": [
  {
   "cell_type": "code",
   "execution_count": 3,
   "id": "c3c90283",
   "metadata": {},
   "outputs": [],
   "source": [
    "# Inserindo informações com append\n",
    "from openpyxl import load_workbook\n",
    "import os \n",
    "\n",
    "# abrindo arquivo excel\n",
    "caminho_nome_arquivo = \"C:\\\\Users\\\\jasantos\\\\Curso RPA\\\\RPA_Insert_With_Append_Excel\\\\InserirDados.xlsx\"\n",
    "planilha_aberta = load_workbook(filename=caminho_nome_arquivo)\n",
    "\n",
    "# seleciona a sheet com nome Aluno\n",
    "sheet_selecionada = planilha_aberta['Aluno']\n",
    "\n",
    "# populando as informações que vão para a planilha\n",
    "dadosTabela = [\n",
    "    ['Nome', 'Idade'],\n",
    "    ['Berenice', 28],\n",
    "    ['Caio', 32],\n",
    "    ['Nicole', 34],\n",
    "    ['Leonardo', 19],\n",
    "    ['Amanda', 25]    \n",
    "]\n",
    "\n",
    "# O append pega toda a lista e passa a sheet Aluno 'os dados da variavel dadosTabela'\n",
    "for linhaPlanilha in dadosTabela: \n",
    "    sheet_selecionada.append(linhaPlanilha)\n",
    "\n",
    "\n",
    "# salva a planilha com as alterações\n",
    "planilha_aberta.save(filename=caminho_nome_arquivo)\n",
    "\n",
    "# abre a planilha\n",
    "os.startfile(caminho_nome_arquivo) \n"
   ]
  },
  {
   "cell_type": "code",
   "execution_count": null,
   "id": "c6bf52a7",
   "metadata": {},
   "outputs": [],
   "source": []
  }
 ],
 "metadata": {
  "kernelspec": {
   "display_name": "Python 3 (ipykernel)",
   "language": "python",
   "name": "python3"
  },
  "language_info": {
   "codemirror_mode": {
    "name": "ipython",
    "version": 3
   },
   "file_extension": ".py",
   "mimetype": "text/x-python",
   "name": "python",
   "nbconvert_exporter": "python",
   "pygments_lexer": "ipython3",
   "version": "3.9.12"
  }
 },
 "nbformat": 4,
 "nbformat_minor": 5
}
